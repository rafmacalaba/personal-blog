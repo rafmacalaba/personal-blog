{
 "cells": [
  {
   "cell_type": "markdown",
   "metadata": {},
   "source": [
    "# From Finance To Data Science\n",
    "> \"It all started as a curiosity, a longing to learn and discover more.\"\n",
    "\n",
    "- toc: false\n",
    "- branch: master\n",
    "- badges: false\n",
    "- sticky_rank: 1\n",
    "- comments: true\n",
    "- author: Rafael Macalaba\n",
    "- image: images/curiosity.png\n",
    "- hide: false\n",
    "- search_exclude: true"
   ]
  },
  {
   "cell_type": "markdown",
   "metadata": {},
   "source": [
    "Way back when I was taking my internship in a Trading Academy, I discovered about a fancy job called quantitative analyst or quant and terms like algorithmic trading and high frequency trading. Since most of the people there talk not so much details about these things and I am curious enough to know more about it, I searched it on web.\n",
    "\n",
    "I found out that quant uses advance math and programming to do their job and it requires a mix skillset of math, finance and programming. As I am still at college that time, I self-reflect on what skills I have that time and what skills do I need to acquire or improve on to make it happen. As I will have a background in finance after finishing college and finance deals with numbers, **it's clear that what I need to focus on that time is to learn how to code.**\n",
    "\n",
    "From that time on, I spent some time learning how to code on available resources at our university library. [Python](https://www.python.org/) was the first programming language I learn since it was a high recommended language to learn for beginners with **zero background in computer science and programming.** Since the book [Python Programming for the Absolute Beginner](https://www.amazon.com/Python-Programming-Absolute-Beginner-3rd/dp/1435455002) is the only available book in our library about Python, I started reading it. The book gives visual representation of how it looks like using the application so it helped me understand the topics even though I don't have a computer.\n",
    "\n",
    "After graduation, I was hired as an analyst in a financial market data provider. I was really glad that the culture of the company promotes self development and my boss is very supportive knowing that I have a bigger goal in mind. The company also offers high-end learning resources like [O'Reilly](https://www.oreilly.com/) where I learned most of the Python books I read. Here's a list of few books about Python that I highly recommend.\n",
    "\n",
    "1. [AutomateTheBoringStuff](https://www.oreilly.com/library/view/automate-the-boring/9781457189906/) - This book will teach you the basics and how you can use python in everyday life at the office. It also has a web version for free on this [link](https://automatetheboringstuff.com/)\n",
    "\n",
    "2. [Learn Python 3 The Hard Way](https://www.oreilly.com/library/view/learn-python-3/9780134693866/) - This book will solidify your Python skills, I think this is a **MUST** read book if you want to learn python from the basics to the more advanced concepts.\n",
    "\n",
    "3. I recommend also for you to check and follow/subscribe to [sentdex](https://www.youtube.com/user/sentdex) YouTube channel. He has an entire playlist of Python programming quick tutorials that will really help you and give you an idea how a programmer thinks and also if you want to see how he struggles on debugging :grin:\n",
    "\n",
    "4. If you lack resources, you can try to use [Snackify](https://snakify.org/en/) to run your code while learning. It's free.\n",
    "\n",
    "Okay, so far it's all about programming. How did I get into Data Science?  \n",
    "While learning Python, most of the books that you will encounter talks about the use cases on where to apply these skills. Since data science was an emerging field that time, I did my research and found out that this field is somehow similar with quant with business domain as differentiator and that could be finance.  \n",
    "\n",
    "\n",
    "![](https://kainos-prod-assets.s3.amazonaws.com/uploads/2019/04/data_science.png)  \n",
    "\n",
    "\n",
    "So from there, I switched my priorities and learning program. I started to learn data science from books and video lectures/series from O'Reilly which has a roster of prolific writers and leaders in data science publication. Here is the list of the books I highly recommend.\n",
    "\n",
    "> Important: You need to know Python first and have a basic understanding of some math concepts in order to fully grasp the topics on these books, I sorted this in order so the books that have advanced topics will be on last.\n",
    "\n",
    "1. [Python Data Science Handbook](https://www.oreilly.com/library/view/python-data-science/9781491912126/) - This book is written by Jake Vanderplas where he tackles about how you can get insights from your data and talks mainly about how you can utilize the Python Data Science Stack - IPython, NumPy, Pandas, Matplotlib, Scikit-Learn, and other related tools.\n",
    "\n",
    "2. [Python for Data Analysis](https://www.oreilly.com/library/view/python-for-data/9781491957653/) - This book written by Wes McKinney which is also the creator of [Pandas](https://pandas.pydata.org/) gives you an idea on how to solve a broad set of data analysis problems effectively. This book is also a practical, modern introduction to data science tools in Python.\n",
    "\n",
    "3. [Introduction to Machine Learning with Python](https://www.oreilly.com/library/view/introduction-to-machine/9781449369880/) - This book will enhance your learning by utilizing the readings on the previous books mentioned on the list and also a solid introduction book to machine learning. It also covers advanced data science and machine learning techniques such as model evaluation and optimization, parameter tuning and machine learning pipelines."
   ]
  },
  {
   "cell_type": "markdown",
   "metadata": {},
   "source": [
    "> Note: I've read many books about data science and the ones I listed here are my top recommended to take in order. Following this should give you a headstart in the field.\n",
    "\n",
    "I also took some advance math courses online by cherry picking the topics and also making sure that I know the prerequisites to understand the topic on these books. If you want to do the same, I recommend learning thru [Khan Academy](https://www.khanacademy.org/) for learning calculus and linear algebra basics. If you wanted to learn an in-class experience you can try [MIT OpenCourseware](https://ocw.mit.edu/index.htm) they have free video courses that you can take for these topics.\n",
    "\n",
    "On January 2018, [DOST-PCIEERD](http://pcieerd.dost.gov.ph/) launched [Data Science Track](https://www.facebook.com/dostpcieerd/photos/pcb.1109989499138132/1109987289138353) which is a government sponsored e-learning track through Coursera where I learned from [University of Michigan](https://umich.edu/) instructors about Data Science.\n",
    "\n",
    "How did you have a hands-on experience on Data Science?\n",
    "\n",
    "I compete, I also suggest competing through different data science platform such as [Kaggle](https://www.kaggle.com/) and [DrivenData](https://www.drivendata.org/competitions/), Also you can utilize [Kaggle-Learn](https://www.kaggle.com/learn/overview) to learn more practical data science use-cases through notebooks that comes with code! Also, it would be great if you will start making your pet projects that showcases what you have learned, may it be forecasting for restaurant visits/inventory, facial recognition app, sentiment analysis using tweets. This will surely help you not only improving your skills but also in recruitment.\n",
    "\n",
    "### Find a Mentor\n",
    "I also recommend that you find a mentor, this will not only help you in networking but also verifying what you have learned, avoiding pitfalls in the field and sharing best practices. You can also join facebook groups about Python and Data Science in your area so you can have potential mentors to ask.\n",
    "\n",
    "### Conclusion\n",
    "That's my journey on how I transitioned **from Finance to Data Science**, I know I still have a lot to learn with the fast changes and advancements on the field of Data Science. \n",
    "As a final note I wanted to include how a Master Chef at a Two-Michelin-Star Restaurant motivates his employees before starting a service. \n",
    "\n",
    "> \"Nobody is going to knock on your door and say, hey, I'm going to teach you something. You actually have to knock on the door and say, show me something today. \n",
    "**When you crave for learning, you learn**\"\n",
    "\n",
    " \n",
    "The clip is from [11:39 to 11:52](https://www.youtube.com/watch?v=z2qNEOnlxjA&t=698s) of this video.\n",
    "> youtube: https://youtu.be/z2qNEOnlxjA\n",
    " \n",
    "I hope this post will help you on your journey on becoming a Data Scientist. Feel free to comment on this post or connect with me through my [email](email:rafael.macalaba@yahoo.com) and other links on [About](https://rafmacalaba.github.io/blog/about/).\n",
    "\n",
    "Thank you for reading! Happy Learning!"
   ]
  },
  {
   "cell_type": "code",
   "execution_count": null,
   "metadata": {},
   "outputs": [],
   "source": []
  }
 ],
 "metadata": {
  "kernelspec": {
   "display_name": "Python 3",
   "language": "python",
   "name": "python3"
  },
  "language_info": {
   "codemirror_mode": {
    "name": "ipython",
    "version": 3
   },
   "file_extension": ".py",
   "mimetype": "text/x-python",
   "name": "python",
   "nbconvert_exporter": "python",
   "pygments_lexer": "ipython3",
   "version": "3.7.1"
  }
 },
 "nbformat": 4,
 "nbformat_minor": 2
}